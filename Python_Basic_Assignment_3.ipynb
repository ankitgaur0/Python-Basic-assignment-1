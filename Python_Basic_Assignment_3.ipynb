{
 "cells": [
  {
   "cell_type": "markdown",
   "id": "aea7d0ca-423f-4b0d-b32f-7f1d9ced97e5",
   "metadata": {},
   "source": [
    "# Python Assignment 3 - ineuron "
   ]
  },
  {
   "cell_type": "markdown",
   "id": "9ce980ab-bf5d-4f6e-9eaf-0065eb0519d5",
   "metadata": {},
   "source": [
    "- 1. Why are functions advantageous to have in your programs?\n",
    "- 2. When does the code in a function run: when it&#39;s specified or when it&#39;s called?\n",
    "- 3. What statement creates a function?\n",
    "- 4. What is the difference between a function and a function call?\n",
    "- 5. How many global scopes are there in a Python program? How many local scopes?\n",
    "- 6. What happens to variables in a local scope when the function call returns?\n",
    "- 7. What is the concept of a return value? Is it possible to have a return value in an expression?\n",
    "- 8. If a function does not have a return statement, what is the return value of a call to that function?\n",
    "- 9. How do you make a function variable refer to the global variable?\n",
    "- 10. What is the data type of None?\n",
    "- 11. What does the sentence import areallyourpetsnamederic do?\n",
    "- 12. If you had a bacon() feature in a spam module, what would you call it after importing spam?\n",
    "- 13. What can you do to save a programme from crashing if it encounters an error?\n",
    "- 14. What is the purpose of the try clause? What is the purpose of the except clause?"
   ]
  },
  {
   "cell_type": "code",
   "execution_count": 3,
   "id": "c9e17f62-00fd-45b4-b2f7-dc10ecfb5368",
   "metadata": {},
   "outputs": [
    {
     "data": {
      "text/plain": [
       "'\\nFunctions are advantageous because:\\n1. They enable code reusability by allowing you to call the same block of code multiple times.\\n2. They improve readability and modularity by breaking the program into smaller, manageable chunks.\\n3. They make debugging easier by isolating specific functionality.\\n4. Functions allow for easier maintenance and updates in programs.\\n'"
      ]
     },
     "execution_count": 3,
     "metadata": {},
     "output_type": "execute_result"
    }
   ],
   "source": [
    "\n",
    "# 1. Why are functions advantageous to have in your programs?\n",
    "\"\"\"\n",
    "Functions are advantageous because:\n",
    "1. They enable code reusability by allowing you to call the same block of code multiple times.\n",
    "2. They improve readability and modularity by breaking the program into smaller, manageable chunks.\n",
    "3. They make debugging easier by isolating specific functionality.\n",
    "4. Functions allow for easier maintenance and updates in programs.\n",
    "\"\"\""
   ]
  },
  {
   "cell_type": "code",
   "execution_count": 5,
   "id": "1312d5a5-2fc1-4382-9689-85e85dcd5968",
   "metadata": {},
   "outputs": [
    {
     "data": {
      "text/plain": [
       "'\\nThe code in a function runs only when the function is called, not when it is specified (defined).\\n'"
      ]
     },
     "execution_count": 5,
     "metadata": {},
     "output_type": "execute_result"
    }
   ],
   "source": [
    "# 2. When does the code in a function run: when it's specified or when it's called?\n",
    "\"\"\"\n",
    "The code in a function runs only when the function is called, not when it is specified (defined).\n",
    "\"\"\""
   ]
  },
  {
   "cell_type": "code",
   "execution_count": 7,
   "id": "1dca0f9e-2e72-419d-b4e6-cbd1b614a738",
   "metadata": {},
   "outputs": [
    {
     "data": {
      "text/plain": [
       "'\\nThe `def` statement is used to create a function.\\n\\nExample:\\ndef my_function():\\n    print(\"Hello, World!\")\\n'"
      ]
     },
     "execution_count": 7,
     "metadata": {},
     "output_type": "execute_result"
    }
   ],
   "source": [
    "# 3. What statement creates a function?\n",
    "\"\"\"\n",
    "The `def` statement is used to create a function.\n",
    "\n",
    "Example:\n",
    "def my_function():\n",
    "    print(\"Hello, World!\")\n",
    "\"\"\"\n"
   ]
  },
  {
   "cell_type": "code",
   "execution_count": 9,
   "id": "4a1cbf25-b600-4899-80b5-3ac173224973",
   "metadata": {},
   "outputs": [
    {
     "data": {
      "text/plain": [
       "'\\n- A function is a block of code that is defined to perform a specific task.\\n- A function call is the process of invoking or executing a function to perform its defined task.\\n\\nExample:\\ndef greet():  # Function definition\\n    print(\"Hello!\")\\n\\ngreet()  # Function call\\n'"
      ]
     },
     "execution_count": 9,
     "metadata": {},
     "output_type": "execute_result"
    }
   ],
   "source": [
    "\n",
    "# 4. What is the difference between a function and a function call?\n",
    "\"\"\"\n",
    "- A function is a block of code that is defined to perform a specific task.\n",
    "- A function call is the process of invoking or executing a function to perform its defined task.\n",
    "\n",
    "Example:\n",
    "def greet():  # Function definition\n",
    "    print(\"Hello!\")\n",
    "\n",
    "greet()  # Function call\n",
    "\"\"\""
   ]
  },
  {
   "cell_type": "code",
   "execution_count": 11,
   "id": "6e9077fd-c7b1-4516-97c7-7dd6e8d3246e",
   "metadata": {},
   "outputs": [
    {
     "data": {
      "text/plain": [
       "\"\\n- There is only one global scope in a Python program, which exists throughout the program's execution.\\n- Each function call creates a new local scope, so there can be multiple local scopes depending on the number of functions called.\\n\""
      ]
     },
     "execution_count": 11,
     "metadata": {},
     "output_type": "execute_result"
    }
   ],
   "source": [
    "# 5. How many global scopes are there in a Python program? How many local scopes?\n",
    "\"\"\"\n",
    "- There is only one global scope in a Python program, which exists throughout the program's execution.\n",
    "- Each function call creates a new local scope, so there can be multiple local scopes depending on the number of functions called.\n",
    "\"\"\"\n"
   ]
  },
  {
   "cell_type": "code",
   "execution_count": 13,
   "id": "290e4b49-8230-4506-bd32-4c25b8ede4fd",
   "metadata": {},
   "outputs": [
    {
     "data": {
      "text/plain": [
       "'\\nVariables in a local scope are destroyed and no longer accessible once the function call returns.\\n'"
      ]
     },
     "execution_count": 13,
     "metadata": {},
     "output_type": "execute_result"
    }
   ],
   "source": [
    "# 6. What happens to variables in a local scope when the function call returns?\n",
    "\"\"\"\n",
    "Variables in a local scope are destroyed and no longer accessible once the function call returns.\n",
    "\"\"\"\n"
   ]
  },
  {
   "cell_type": "code",
   "execution_count": 15,
   "id": "1dfced45-0d04-4636-9419-c1f7efd1dfbb",
   "metadata": {},
   "outputs": [
    {
     "data": {
      "text/plain": [
       "'\\n- A return value is the output that a function sends back to the caller using the `return` statement.\\n- Yes, a return value can be used in an expression.\\n\\nExample:\\ndef add(a, b):\\n    return a + b\\n\\nresult = add(5, 3)  # 8\\nprint(result * 2)  # 16\\n'"
      ]
     },
     "execution_count": 15,
     "metadata": {},
     "output_type": "execute_result"
    }
   ],
   "source": [
    "# 7. What is the concept of a return value? Is it possible to have a return value in an expression?\n",
    "\"\"\"\n",
    "- A return value is the output that a function sends back to the caller using the `return` statement.\n",
    "- Yes, a return value can be used in an expression.\n",
    "\n",
    "Example:\n",
    "def add(a, b):\n",
    "    return a + b\n",
    "\n",
    "result = add(5, 3)  # 8\n",
    "print(result * 2)  # 16\n",
    "\"\"\"\n"
   ]
  },
  {
   "cell_type": "code",
   "execution_count": 17,
   "id": "bf92e133-f392-491c-83f3-c2b23d4c9afd",
   "metadata": {},
   "outputs": [
    {
     "data": {
      "text/plain": [
       "'\\nIf a function does not have a return statement, it returns `None` by default.\\n'"
      ]
     },
     "execution_count": 17,
     "metadata": {},
     "output_type": "execute_result"
    }
   ],
   "source": [
    "\n",
    "# 8. If a function does not have a return statement, what is the return value of a call to that function?\n",
    "\"\"\"\n",
    "If a function does not have a return statement, it returns `None` by default.\n",
    "\"\"\"\n"
   ]
  },
  {
   "cell_type": "code",
   "execution_count": 19,
   "id": "f9070e60-db3b-49ec-a594-fd9827461b65",
   "metadata": {},
   "outputs": [
    {
     "data": {
      "text/plain": [
       "'\\nUse the `global` keyword to make a function variable refer to the global variable.\\n\\nExample:\\nx = 10\\n\\ndef modify_global():\\n    global x\\n    x = 20\\n\\nmodify_global()\\nprint(x)  # 20\\n'"
      ]
     },
     "execution_count": 19,
     "metadata": {},
     "output_type": "execute_result"
    }
   ],
   "source": [
    "\n",
    "# 9. How do you make a function variable refer to the global variable?\n",
    "\"\"\"\n",
    "Use the `global` keyword to make a function variable refer to the global variable.\n",
    "\n",
    "Example:\n",
    "x = 10\n",
    "\n",
    "def modify_global():\n",
    "    global x\n",
    "    x = 20\n",
    "\n",
    "modify_global()\n",
    "print(x)  # 20\n",
    "\"\"\"\n"
   ]
  },
  {
   "cell_type": "code",
   "execution_count": 21,
   "id": "6a9a9fe2-3077-4943-a5db-21c82b0fa81a",
   "metadata": {},
   "outputs": [
    {
     "data": {
      "text/plain": [
       "'\\nIt attempts to import a module named `areallyourpetsnamederic`. If the module does not exist, Python will raise a `ModuleNotFoundError`.\\n'"
      ]
     },
     "execution_count": 21,
     "metadata": {},
     "output_type": "execute_result"
    }
   ],
   "source": [
    "# 11. What does the sentence `import areallyourpetsnamederic` do?\n",
    "\"\"\"\n",
    "It attempts to import a module named `areallyourpetsnamederic`. If the module does not exist, Python will raise a `ModuleNotFoundError`.\n",
    "\"\"\"\n"
   ]
  },
  {
   "cell_type": "code",
   "execution_count": 23,
   "id": "caac3fe6-3c09-4ba3-a277-57abc6af1373",
   "metadata": {},
   "outputs": [
    {
     "data": {
      "text/plain": [
       "'\\nYou would call it as:\\n`spam.bacon()`\\n\\nExample:\\nimport spam\\nspam.bacon()\\n'"
      ]
     },
     "execution_count": 23,
     "metadata": {},
     "output_type": "execute_result"
    }
   ],
   "source": [
    "# 12. If you had a bacon() feature in a spam module, what would you call it after importing spam?\n",
    "\"\"\"\n",
    "You would call it as:\n",
    "`spam.bacon()`\n",
    "\n",
    "Example:\n",
    "import spam\n",
    "spam.bacon()\n",
    "\"\"\"\n"
   ]
  },
  {
   "cell_type": "code",
   "execution_count": null,
   "id": "81c56e71-7887-4975-a728-57bd379f9fb4",
   "metadata": {},
   "outputs": [],
   "source": []
  }
 ],
 "metadata": {
  "kernelspec": {
   "display_name": "Python 3 (ipykernel)",
   "language": "python",
   "name": "python3"
  },
  "language_info": {
   "codemirror_mode": {
    "name": "ipython",
    "version": 3
   },
   "file_extension": ".py",
   "mimetype": "text/x-python",
   "name": "python",
   "nbconvert_exporter": "python",
   "pygments_lexer": "ipython3",
   "version": "3.12.4"
  }
 },
 "nbformat": 4,
 "nbformat_minor": 5
}

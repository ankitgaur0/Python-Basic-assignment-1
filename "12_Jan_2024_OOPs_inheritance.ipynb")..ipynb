{
 "cells": [
  {
   "cell_type": "markdown",
   "id": "1b93700c-3245-4aef-9799-c11ea94eda15",
   "metadata": {},
   "source": [
    "# Assignment 2.(Python assignment)"
   ]
  },
  {
   "cell_type": "markdown",
   "id": "cf936503-82cd-482b-9a58-5be7048bf3f5",
   "metadata": {},
   "source": [
    "- 1. Explain what inheritance is in object-oriented programming and why it is used.\n",
    "- 2. Discuss the concept of single inheritance and multiple inheritance, highlighting their\n",
    "    differences and advantages.\n",
    "- 3. Explain the terms \"base class\" and \"derived class\" in the context of inheritance.\n",
    "- 4. What is the significance of the \"protected\" access modifier in inheritance? How does\n",
    "    it differ from \"private\" and \"public\" modifiers?\n",
    "- 5. What is the purpose of the \"super\" keyword in inheritance? Provide an example.\n",
    "- 6. Create a base class called \"Vehicle\" with attributes like \"make\", \"model\", and \"year\".\n",
    "    Then, create a derived class called \"Car\" that inherits from \"Vehicle\" and adds an\n",
    "    attribute called \"fuel_type\". Implement appropriate methods in both classes.\n",
    "- 7. Create a base class called \"Employee\" with attributes like \"name\" and \"salary.\"\n",
    "    Derive two classes, \"Manager\" and \"Developer,\" from \"Employee.\" Add an additional\n",
    "    attribute called \"department\" for the \"Manager\" class and \"programming_language\"\n",
    "    for the \"Developer\" class.\n",
    "- 8. Design a base class called \"Shape\" with attributes like \"colour\" and \"border_width.\"\n",
    "    Create derived classes, \"Rectangle\" and \"Circle,\" that inherit from \"Shape\" and add\n",
    "    specific attributes like \"length\" and \"width\" for the \"Rectangle\" class and \"radius\" for\n",
    "    the \"Circle\" class.\n",
    "- 9. Create a base class called \"Device\" with attributes like \"brand\" and \"model.\" Derive\n",
    "    two classes, \"Phone\" and \"Tablet,\" from \"Device.\" Add specific attributes like\n",
    "    \"screen_size\" for the \"Phone\" class and \"battery_capacity\" for the \"Tablet\" class.\n",
    "- 10. Create a base class called \"BankAccount\" with attributes like \"account_number\" and\n",
    "    \"balance.\" Derive two classes, \"SavingsAccount\" and \"CheckingAccount,\" from\n",
    "    \"BankAccount.\" Add specific methods like \"calculate_interest\" for the\n",
    "    \"SavingsAccount\" class and \"deduct_fees\" for the \"CheckingAccount\" class."
   ]
  },
  {
   "cell_type": "code",
   "execution_count": 3,
   "id": "568d43b2-b270-4ead-92b2-cff403f51c1d",
   "metadata": {},
   "outputs": [],
   "source": [
    "# 1. What is inheritance in object-oriented programming and why is it used?\n",
    "\"\"\"\n",
    "Inheritance is a feature of OOP that allows a class (derived class) to acquire the attributes and methods of another class (base class). \n",
    "It is used to promote code reuse, reduce redundancy, and model hierarchical relationships between classes.\n",
    "\"\"\""
   ]
  },
  {
   "cell_type": "code",
   "execution_count": 5,
   "id": "d4214400-b495-41fb-8e59-9641b0b48604",
   "metadata": {},
   "outputs": [
    {
     "data": {
      "text/plain": [
       "'\\nSingle Inheritance: A derived class inherits from one base class.\\n    - Advantage: Simpler and avoids complexity.\\n    - Example: `Car` inherits from `Vehicle`.\\n\\nMultiple Inheritance: A derived class inherits from two or more base classes.\\n    - Advantage: Allows a class to combine features from multiple base classes.\\n    - Disadvantage: Can lead to complexity like the diamond problem.\\n\\nExample:\\nclass A: pass\\nclass B: pass\\nclass C(A, B): pass\\n'"
      ]
     },
     "execution_count": 5,
     "metadata": {},
     "output_type": "execute_result"
    }
   ],
   "source": [
    "\n",
    "# 2. Single Inheritance vs. Multiple Inheritance\n",
    "\"\"\"\n",
    "Single Inheritance: A derived class inherits from one base class.\n",
    "    - Advantage: Simpler and avoids complexity.\n",
    "    - Example: `Car` inherits from `Vehicle`.\n",
    "\n",
    "Multiple Inheritance: A derived class inherits from two or more base classes.\n",
    "    - Advantage: Allows a class to combine features from multiple base classes.\n",
    "    - Disadvantage: Can lead to complexity like the diamond problem.\n",
    "\n",
    "Example:\n",
    "class A: pass\n",
    "class B: pass\n",
    "class C(A, B): pass\n",
    "\"\"\"\n"
   ]
  },
  {
   "cell_type": "code",
   "execution_count": 9,
   "id": "4190ddfb-58cb-400c-93e3-a7c2d6241c6a",
   "metadata": {},
   "outputs": [
    {
     "data": {
      "text/plain": [
       "'\\n- Base Class: The class whose properties and methods are inherited by another class.\\n- Derived Class: The class that inherits from the base class.\\n\\nExample:\\nclass Base:\\n    pass\\n\\nclass Derived(Base):\\n    pass\\n'"
      ]
     },
     "execution_count": 9,
     "metadata": {},
     "output_type": "execute_result"
    }
   ],
   "source": [
    "# 3. Base Class vs. Derived Class\n",
    "\"\"\"\n",
    "- Base Class: The class whose properties and methods are inherited by another class.\n",
    "- Derived Class: The class that inherits from the base class.\n",
    "\n",
    "Example:\n",
    "class Base:\n",
    "    pass\n",
    "\n",
    "class Derived(Base):\n",
    "    pass\n",
    "\"\"\""
   ]
  },
  {
   "cell_type": "code",
   "execution_count": 11,
   "id": "eba01a49-9fb9-4950-82e0-85d82543a2f2",
   "metadata": {},
   "outputs": [
    {
     "data": {
      "text/plain": [
       "'\\n- Protected members (prefix `_`) are accessible within the class and its derived classes.\\n- Private members (prefix `__`) are only accessible within the class.\\n- Public members have no prefix and are accessible from anywhere.\\n\\nExample:\\nclass Base:\\n    def __init__(self):\\n        self.public = \"Public\"\\n        self._protected = \"Protected\"\\n        self.__private = \"Private\"\\n'"
      ]
     },
     "execution_count": 11,
     "metadata": {},
     "output_type": "execute_result"
    }
   ],
   "source": [
    "\n",
    "# 4. Significance of the \"protected\" access modifier\n",
    "\"\"\"\n",
    "- Protected members (prefix `_`) are accessible within the class and its derived classes.\n",
    "- Private members (prefix `__`) are only accessible within the class.\n",
    "- Public members have no prefix and are accessible from anywhere.\n",
    "\n",
    "Example:\n",
    "class Base:\n",
    "    def __init__(self):\n",
    "        self.public = \"Public\"\n",
    "        self._protected = \"Protected\"\n",
    "        self.__private = \"Private\"\n",
    "\"\"\"\n"
   ]
  },
  {
   "cell_type": "code",
   "execution_count": 13,
   "id": "a05bc9e4-e696-4732-832d-15cf4bac0aeb",
   "metadata": {},
   "outputs": [
    {
     "data": {
      "text/plain": [
       "'\\nThe `super` keyword is used to call methods or access attributes of the base class within the derived class. \\nIt is particularly useful in method overriding.\\n\\nExample:\\nclass Parent:\\n    def display(self):\\n        print(\"Parent method\")\\n\\nclass Child(Parent):\\n    def display(self):\\n        super().display()  # Calls Parent\\'s display method\\n        print(\"Child method\")\\n'"
      ]
     },
     "execution_count": 13,
     "metadata": {},
     "output_type": "execute_result"
    }
   ],
   "source": [
    "\n",
    "# 5. Purpose of the \"super\" keyword\n",
    "\"\"\"\n",
    "The `super` keyword is used to call methods or access attributes of the base class within the derived class. \n",
    "It is particularly useful in method overriding.\n",
    "\n",
    "Example:\n",
    "class Parent:\n",
    "    def display(self):\n",
    "        print(\"Parent method\")\n",
    "\n",
    "class Child(Parent):\n",
    "    def display(self):\n",
    "        super().display()  # Calls Parent's display method\n",
    "        print(\"Child method\")\n",
    "\"\"\""
   ]
  },
  {
   "cell_type": "code",
   "execution_count": 19,
   "id": "97189d3e-5c67-46c8-aa8b-c102143eeb5c",
   "metadata": {},
   "outputs": [
    {
     "name": "stdout",
     "output_type": "stream",
     "text": [
      "Make: Toyota, Model: Corolla, Year: 2022\n",
      "Fuel Type: Petrol\n"
     ]
    }
   ],
   "source": [
    "\n",
    "# 6. \"Vehicle\" and \"Car\" Classes\n",
    "class Vehicle:\n",
    "    def __init__(self, make, model, year):\n",
    "        self.make = make\n",
    "        self.model = model\n",
    "        self.year = year\n",
    "\n",
    "    def display_info(self):\n",
    "        print(f\"Make: {self.make}, Model: {self.model}, Year: {self.year}\")\n",
    "\n",
    "class Car(Vehicle):\n",
    "    def __init__(self, make, model, year, fuel_type):\n",
    "        super().__init__(make, model, year)\n",
    "        self.fuel_type = fuel_type\n",
    "\n",
    "    def display_car_info(self):\n",
    "        self.display_info()\n",
    "        print(f\"Fuel Type: {self.fuel_type}\")\n",
    "\n",
    "# Example\n",
    "car = Car(\"Toyota\", \"Corolla\", 2022, \"Petrol\")\n",
    "car.display_car_info()\n"
   ]
  },
  {
   "cell_type": "code",
   "execution_count": 21,
   "id": "199f8c9f-28ec-4c0a-8381-13f0a573b6b1",
   "metadata": {},
   "outputs": [
    {
     "name": "stdout",
     "output_type": "stream",
     "text": [
      "Name: Alice, Salary: 90000\n",
      "Department: HR\n",
      "Name: Bob, Salary: 80000\n",
      "Programming Language: Python\n"
     ]
    }
   ],
   "source": [
    "# 7. \"Employee,\" \"Manager,\" and \"Developer\" Classes\n",
    "class Employee:\n",
    "    def __init__(self, name, salary):\n",
    "        self.name = name\n",
    "        self.salary = salary\n",
    "\n",
    "    def display_info(self):\n",
    "        print(f\"Name: {self.name}, Salary: {self.salary}\")\n",
    "\n",
    "class Manager(Employee):\n",
    "    def __init__(self, name, salary, department):\n",
    "        super().__init__(name, salary)\n",
    "        self.department = department\n",
    "\n",
    "    def display_manager_info(self):\n",
    "        self.display_info()\n",
    "        print(f\"Department: {self.department}\")\n",
    "\n",
    "class Developer(Employee):\n",
    "    def __init__(self, name, salary, programming_language):\n",
    "        super().__init__(name, salary)\n",
    "        self.programming_language = programming_language\n",
    "\n",
    "    def display_developer_info(self):\n",
    "        self.display_info()\n",
    "        print(f\"Programming Language: {self.programming_language}\")\n",
    "\n",
    "# Example\n",
    "manager = Manager(\"Alice\", 90000, \"HR\")\n",
    "developer = Developer(\"Bob\", 80000, \"Python\")\n",
    "manager.display_manager_info()\n",
    "developer.display_developer_info()\n",
    "\n"
   ]
  },
  {
   "cell_type": "code",
   "execution_count": 23,
   "id": "794d8adc-f198-4aa5-b033-ba1525740836",
   "metadata": {},
   "outputs": [
    {
     "name": "stdout",
     "output_type": "stream",
     "text": [
      "Colour: Red, Border Width: 2\n",
      "Length: 10, Width: 5\n",
      "Colour: Blue, Border Width: 1\n",
      "Radius: 7\n"
     ]
    }
   ],
   "source": [
    "# 8. \"Shape,\" \"Rectangle,\" and \"Circle\" Classes\n",
    "class Shape:\n",
    "    def __init__(self, colour, border_width):\n",
    "        self.colour = colour\n",
    "        self.border_width = border_width\n",
    "\n",
    "    def display_shape_info(self):\n",
    "        print(f\"Colour: {self.colour}, Border Width: {self.border_width}\")\n",
    "\n",
    "class Rectangle(Shape):\n",
    "    def __init__(self, colour, border_width, length, width):\n",
    "        super().__init__(colour, border_width)\n",
    "        self.length = length\n",
    "        self.width = width\n",
    "\n",
    "    def display_rectangle_info(self):\n",
    "        self.display_shape_info()\n",
    "        print(f\"Length: {self.length}, Width: {self.width}\")\n",
    "\n",
    "class Circle(Shape):\n",
    "    def __init__(self, colour, border_width, radius):\n",
    "        super().__init__(colour, border_width)\n",
    "        self.radius = radius\n",
    "\n",
    "    def display_circle_info(self):\n",
    "        self.display_shape_info()\n",
    "        print(f\"Radius: {self.radius}\")\n",
    "\n",
    "# Example\n",
    "rectangle = Rectangle(\"Red\", 2, 10, 5)\n",
    "circle = Circle(\"Blue\", 1, 7)\n",
    "rectangle.display_rectangle_info()\n",
    "circle.display_circle_info()\n",
    "\n"
   ]
  },
  {
   "cell_type": "code",
   "execution_count": 25,
   "id": "30330426-114e-4e28-8ff2-47a2cc4506b6",
   "metadata": {},
   "outputs": [
    {
     "name": "stdout",
     "output_type": "stream",
     "text": [
      "Brand: Apple, Model: iPhone 14\n",
      "Screen Size: 6.1 inches\n",
      "Brand: Samsung, Model: Galaxy Tab S8\n",
      "Battery Capacity: 8000 mAh\n"
     ]
    }
   ],
   "source": [
    "# 9. \"Device,\" \"Phone,\" and \"Tablet\" Classes\n",
    "class Device:\n",
    "    def __init__(self, brand, model):\n",
    "        self.brand = brand\n",
    "        self.model = model\n",
    "\n",
    "    def display_device_info(self):\n",
    "        print(f\"Brand: {self.brand}, Model: {self.model}\")\n",
    "\n",
    "class Phone(Device):\n",
    "    def __init__(self, brand, model, screen_size):\n",
    "        super().__init__(brand, model)\n",
    "        self.screen_size = screen_size\n",
    "\n",
    "    def display_phone_info(self):\n",
    "        self.display_device_info()\n",
    "        print(f\"Screen Size: {self.screen_size}\")\n",
    "\n",
    "class Tablet(Device):\n",
    "    def __init__(self, brand, model, battery_capacity):\n",
    "        super().__init__(brand, model)\n",
    "        self.battery_capacity = battery_capacity\n",
    "\n",
    "    def display_tablet_info(self):\n",
    "        self.display_device_info()\n",
    "        print(f\"Battery Capacity: {self.battery_capacity}\")\n",
    "\n",
    "# Example\n",
    "phone = Phone(\"Apple\", \"iPhone 14\", \"6.1 inches\")\n",
    "tablet = Tablet(\"Samsung\", \"Galaxy Tab S8\", \"8000 mAh\")\n",
    "phone.display_phone_info()\n",
    "tablet.display_tablet_info()\n"
   ]
  },
  {
   "cell_type": "code",
   "execution_count": null,
   "id": "fc8c7f64-a1b1-45bc-976a-2863643b2c2f",
   "metadata": {},
   "outputs": [],
   "source": []
  }
 ],
 "metadata": {
  "kernelspec": {
   "display_name": "Python 3 (ipykernel)",
   "language": "python",
   "name": "python3"
  },
  "language_info": {
   "codemirror_mode": {
    "name": "ipython",
    "version": 3
   },
   "file_extension": ".py",
   "mimetype": "text/x-python",
   "name": "python",
   "nbconvert_exporter": "python",
   "pygments_lexer": "ipython3",
   "version": "3.12.4"
  }
 },
 "nbformat": 4,
 "nbformat_minor": 5
}

{
 "cells": [
  {
   "cell_type": "markdown",
   "id": "4c811607-ff38-46d2-9815-bb4ce949ed20",
   "metadata": {},
   "source": [
    "#First Assignment of Basic Python \n"
   ]
  },
  {
   "cell_type": "markdown",
   "id": "125654e6-7396-43ef-a4ad-dcf6d7afebba",
   "metadata": {},
   "source": [
    "#1. In the below elements which of them are values or an expression? eg:- values can be\n",
    "integer or string and expressions will be mathematical operators.\n",
    "*\n",
    "&#39;hello&#39;\n",
    "-87.8\n",
    "-\n",
    "/\n",
    "+\n",
    "6"
   ]
  },
  {
   "cell_type": "code",
   "execution_count": 5,
   "id": "bc48c88c-c115-4f11-9ddd-c3b8e8b3e284",
   "metadata": {
    "tags": []
   },
   "outputs": [
    {
     "name": "stdout",
     "output_type": "stream",
     "text": [
      "hello -87.8 6\n",
      "6 1 3.0 5\n"
     ]
    }
   ],
   "source": [
    "'''Ans. in that question *,-,/,+ represent the expression , these are also know as Arithmetic operation\n",
    "and 'hello',-87.8,6 represent the values.\n",
    "'''\n",
    "# desmonstrate in examples. first values then expressions\n",
    "a='hello'\n",
    "b=-87.8\n",
    "c=6\n",
    "print(a,b,c)\n",
    "#now using expressions with vales\n",
    "a=2*3\n",
    "b=3-2\n",
    "c=6/2\n",
    "d=2+3\n",
    "print(a,b,c,d)"
   ]
  },
  {
   "cell_type": "markdown",
   "id": "7df875d9-a55a-4e6e-91be-e475ddaa6931",
   "metadata": {},
   "source": [
    "#Question2.What is the difference between string and variable?"
   ]
  },
  {
   "cell_type": "code",
   "execution_count": 8,
   "id": "f196c4ae-a3b1-4061-8e92-af0392ac53f2",
   "metadata": {
    "tags": []
   },
   "outputs": [],
   "source": [
    "#Ans. String is used to represent the single charactor value or group of charactors enclosed either in single quotes('') or double qoutes(\"\").By example in code\n",
    "\n",
    "name='ankit'\n",
    "alp='a'\n",
    "\n",
    "#Variable: variable is a name that are basically used to store the values.For example:\n",
    "variable=32   #here variable is the name that stores the value 32\n",
    "variable2=\"an\"  #here variable2 is the name that store a string value\n"
   ]
  },
  {
   "cell_type": "markdown",
   "id": "77343f48-ebd0-484a-a8e8-85f2bb0acf54",
   "metadata": {},
   "source": [
    "Q.3. Describe three different data types."
   ]
  },
  {
   "cell_type": "code",
   "execution_count": 16,
   "id": "f4123c0c-7d59-4df5-8d07-34f463e4e217",
   "metadata": {
    "tags": []
   },
   "outputs": [
    {
     "name": "stdout",
     "output_type": "stream",
     "text": [
      "this is a list datatype\n",
      "[1, 2, 3, 'Ankit', 'Gaur']\n",
      "this is a dictionary datatype\n",
      "{'a': 1, 'name': 'ankit', 'last_name': 'ankit'}\n",
      "this is a tuple datatype\n",
      "3\n",
      "(1, 2, 3, 'Ankit', 10)\n"
     ]
    }
   ],
   "source": [
    "'''Ans. In python datatypes are basically categorised by many ways like Numerical and Sequence type and along with there is also Dictionary and Set data types\n",
    "and one other is mutable or immutable data types.\n",
    "Mutable datatypes that types that can be change after the intializing them.\n",
    "immutable datatypes that types that can't be change after intialized them.\n",
    "Three data types are:-List,dictionary,tuple'''\n",
    "#list:- list is a mutable datatype, list is an ordered sequence of items,\n",
    "#list can hold the numberical values and string values also with in the cross braces[ ]\n",
    "list=[1,2,3,\"Ankit\",\"Gaur\"]\n",
    "print(\"this is a list datatype\")\n",
    "print(list)\n",
    "\n",
    "#Dictionary:it is alos a mutable datatype.Dictionary is an unordered collection of key-value.\n",
    "#Dictionary are defined within curlie braces{} with each item being a pair in the form of key and value.\n",
    "#In Dictionary keys always unique with respect to individual dictionary, but values can be duplicate with respect to unique keys.\n",
    "dict={\"a\":1,\"name\":\"ankit\",\"last_name\":\"ankit\"}\n",
    "print(\"this is a dictionary datatype\")\n",
    "print(dict)\n",
    "\n",
    "#touple:- tuple is an immutable data types. Tuple is an ordered sequence of items same as list.\n",
    "# It is defined within parenteses() where items are separated by commas.\n",
    "\n",
    "tupl=(1,2,3,\"Ankit\",10)\n",
    "print(\"this is a tuple datatype\")\n",
    "print(tupl[2])\n",
    "print(tupl)"
   ]
  },
  {
   "cell_type": "code",
   "execution_count": null,
   "id": "6bb4326a-92eb-485a-b94d-0bd11241f127",
   "metadata": {},
   "outputs": [],
   "source": []
  },
  {
   "cell_type": "markdown",
   "id": "5a978fc1-dc18-4ecb-b4eb-5ed8a59cd602",
   "metadata": {},
   "source": [
    "Q4. What is an expression made up of? What do all expressions do?"
   ]
  },
  {
   "cell_type": "code",
   "execution_count": 20,
   "id": "8a05f865-7855-4fb7-837c-37ac946794b3",
   "metadata": {
    "tags": []
   },
   "outputs": [
    {
     "data": {
      "text/plain": [
       "'1) Evaluate to a Single value. Eg. 3+5 # result is 8 ( a single value evaluate)\\nUsed in many more contexts like:-\\n     *Assigning Values to Variables. Eg. name=2024\\n     *Performing Calculations. Eg.  age>=21\\n     *Conditional Statements: Eg. if(a>10):\\n     *Conditional Statements: it means to the passing arguments as expression when we call a funcion.\\n     \\n'"
      ]
     },
     "execution_count": 20,
     "metadata": {},
     "output_type": "execute_result"
    }
   ],
   "source": [
    "'''Ans.In Python, an expression is a fundamental building block of your code.\n",
    "It's a combination of values, variables, operators, and function calls that evaluates to a single result.\n",
    "Components of an Expression:\n",
    "*Values\n",
    "*Variables\n",
    "*Operators\n",
    "*Fucntion\n",
    "'''\n",
    "#what do all expresion do\n",
    "'''1) Evaluate to a Single value. Eg. 3+5 # result is 8 ( a single value evaluate)\n",
    "Used in many more contexts like:-\n",
    "     *\n",
    "     *Performing Calculations. Eg.  age>=21\n",
    "     *Conditional Statements: Eg. if(a>10):\n",
    "     *function call: it means to the passing arguments as expression when we call a funcion.\n",
    "     \n",
    "'''"
   ]
  },
  {
   "cell_type": "code",
   "execution_count": null,
   "id": "a010c32e-6759-409e-9bd5-e12f30a194f3",
   "metadata": {},
   "outputs": [],
   "source": []
  },
  {
   "cell_type": "markdown",
   "id": "9bdc78f4-be68-4886-a64f-1467f9d5ad0e",
   "metadata": {},
   "source": [
    "Q5.This assignment statements, like spam = 10. What is the difference between an\n",
    "expression and a statement?"
   ]
  },
  {
   "cell_type": "code",
   "execution_count": null,
   "id": "232ba65c-3f3f-4bc4-ac4b-2f6e50076519",
   "metadata": {},
   "outputs": [],
   "source": [
    "'''Ans. Expression are like tiny calculator that produce result\n",
    "Statement are the building blocks that makes our program do things with those result.'''\n",
    "# here\n",
    "spam = 10 # here 10 value assign to the spam variable\n",
    "'''*Statement:A statement is an instruction that the Python interpreter can execute.\n",
    "It performs some action, such as creating a variable, printing a value, or controlling the flow of execution.\n",
    "Statements do not return values (though they can have side effects).\n",
    "\n",
    "Key Characteristics of Statements:\n",
    "\n",
    "  ->Performs an action: Statements execute something, like assigning a value to a variable or printing something to the screen.\n",
    " \n",
    "  ->Standalone execution: They can be executed on their own and typically span one or more lines.\n",
    "  \n",
    "  ->No returned value: Statements do not evaluate to a value (they return None if used in an expression context).\n",
    "'''\n",
    "#Expression \n",
    "'''An expression is a combination of values, variables, operators, and function calls that Python evaluates to produce another value. Expressions represent something, and when evaluated, they return a result.\n",
    "\n",
    "Key Characteristics of Expressions:\n",
    "\n",
    "  ->Evaluates to a value: Expressions always produce a value when evaluated.\n",
    "\n",
    "  ->Used within statements: They are often part of statements.\n",
    "\n",
    "  ->Return a value: They can be assigned to variables, passed to functions, etc.\n",
    "  \n",
    "  For example:\n",
    "     3+5\n",
    "     spam*4\n",
    "     fun(spam)\n",
    "'''"
   ]
  },
  {
   "cell_type": "code",
   "execution_count": null,
   "id": "3f796254-efb4-4226-b919-658348263cb4",
   "metadata": {},
   "outputs": [],
   "source": []
  },
  {
   "cell_type": "markdown",
   "id": "f4692986-0591-43ef-827b-fbeddd8a85a7",
   "metadata": {},
   "source": [
    "Q6.After running the following code, what does the variable bacon contain?\n",
    "bacon = 22\n",
    "bacon + 1"
   ]
  },
  {
   "cell_type": "code",
   "execution_count": 24,
   "id": "fd933f16-65e3-4f75-94a5-5cda7a900c17",
   "metadata": {
    "tags": []
   },
   "outputs": [
    {
     "name": "stdout",
     "output_type": "stream",
     "text": [
      "22\n"
     ]
    }
   ],
   "source": [
    "bacon=22\n",
    "bacon +1\n",
    "print(bacon)   # bacon still stores the same the value 22. because it post expression operator.\n",
    "# it means first bacon stores the values after it add +1 value to its value but not stores in the memory.there is no assiging operation."
   ]
  },
  {
   "cell_type": "markdown",
   "id": "4ccc411e-e240-43c1-a097-618280006d3a",
   "metadata": {
    "tags": []
   },
   "source": [
    "Q7.What should the values of the following two terms be?\n",
    "&#39;spam&#39; + &#39;spamspam&#39;\n",
    "&#39;spam&#39; * 3"
   ]
  },
  {
   "cell_type": "code",
   "execution_count": 33,
   "id": "7f143a57-b636-4343-bb4d-cd3b8793847b",
   "metadata": {
    "tags": []
   },
   "outputs": [
    {
     "data": {
      "text/plain": [
       "'spamspamspam'"
      ]
     },
     "execution_count": 33,
     "metadata": {},
     "output_type": "execute_result"
    }
   ],
   "source": [
    "#Ans.\n",
    "'spam'+'spamspam' # the result will be 'spamspamspam' because in string +(operator)reacts as the concat operation\n",
    "\n",
    "'spam'*3   #the result will be 'spamspamspam'. it concat the 'spam' value 3 times with  'spam' string"
   ]
  },
  {
   "cell_type": "markdown",
   "id": "3b16beb7-bc62-461a-b51f-5487ca2e6d69",
   "metadata": {
    "tags": []
   },
   "source": [
    "Q8. Why is eggs a valid variable name while 100 is invalid?"
   ]
  },
  {
   "cell_type": "code",
   "execution_count": 36,
   "id": "e437dcf2-c911-4132-97be-af7ea6953d3e",
   "metadata": {
    "tags": []
   },
   "outputs": [
    {
     "data": {
      "text/plain": [
       "\"# to define the variable python have a certian number of rules. One of them is that a variable can't start with the numberical values,\\nit can start with  alphabets or (_) symbols only.\""
      ]
     },
     "execution_count": 36,
     "metadata": {},
     "output_type": "execute_result"
    }
   ],
   "source": [
    "#Ans. \n",
    "\n",
    "eggs=2  # eggs is a valid variable\n",
    "#100=2      # 100 is not a vaild varible\n",
    "'''# to define the variable python have a certian number of rules. One of them is that a variable can't start with the numberical values,\n",
    "it can start with  alphabets or (_) symbols only.'''\n",
    "# we can use the any integer after the first alphabet, not before than we can't use."
   ]
  },
  {
   "cell_type": "markdown",
   "id": "2593aa2d-3519-47eb-934d-df1efe8d7890",
   "metadata": {},
   "source": [
    "Q9. What three functions can be used to get the integer, floating-point number, or string\n",
    "version of a value?"
   ]
  },
  {
   "cell_type": "code",
   "execution_count": 43,
   "id": "38df85ca-d873-4911-85a4-c68e6095341e",
   "metadata": {
    "tags": []
   },
   "outputs": [
    {
     "name": "stdout",
     "output_type": "stream",
     "text": [
      "23\n",
      "23.0\n",
      "c is: 1 d is: 345.324\n"
     ]
    }
   ],
   "source": [
    "#Ans. to get the integer ,float-point number and string values\n",
    "''' we have int() which converts the float-value and string to integer\n",
    "float() - it converts any integer values and strings to float values\n",
    "str() - this function converts the the integers value or float value to the string values by enclosing the value to single quotes and double quotes.\n",
    "'''\n",
    "# lets demonstrate by practical\n",
    "a=int(23.33)\n",
    "print(a)\n",
    "b=float(23)\n",
    "print(b)\n",
    "\n",
    "c=str(1)\n",
    "d=str(345.3240)\n",
    "print(\"c is:\",c,\"d is:\",d)"
   ]
  },
  {
   "cell_type": "code",
   "execution_count": null,
   "id": "97cd7e81-bae9-46ee-bead-08a5b6cee531",
   "metadata": {},
   "outputs": [],
   "source": []
  },
  {
   "cell_type": "markdown",
   "id": "c3f04c49-1f5c-4ff4-8fd3-a2b845d2e8e5",
   "metadata": {},
   "source": [
    "Q10.Why does this expression cause an error? How can you fix it?\n",
    "&#39;I have eaten &#39; + 99 + &#39; burritos.&#39;"
   ]
  },
  {
   "cell_type": "code",
   "execution_count": 48,
   "id": "fa88224b-fb0c-41d1-b8af-f410e7d883a4",
   "metadata": {
    "tags": []
   },
   "outputs": [
    {
     "name": "stdout",
     "output_type": "stream",
     "text": [
      "I have eaten + 99 + burritos.\n"
     ]
    }
   ],
   "source": [
    "#Ans. \n",
    "#'I have eaten'+99+'burritos.'          it is way of print statement in java language.\n",
    "\n",
    "'''to write this in python language, we have to write the + sign within the quotes and using commas instead this place.\n",
    "for example:'''\n",
    "\n",
    "\n",
    "\n",
    "'I have eaten +',99,'+ burritos.'\n",
    "# ans can also write within the print statement\n",
    "print('I have eaten +',99,'+ burritos.')"
   ]
  },
  {
   "cell_type": "code",
   "execution_count": null,
   "id": "647d2182-eb22-4907-918b-5fab45b22bd1",
   "metadata": {},
   "outputs": [],
   "source": []
  }
 ],
 "metadata": {
  "kernelspec": {
   "display_name": "Python 3 (ipykernel)",
   "language": "python",
   "name": "python3"
  },
  "language_info": {
   "codemirror_mode": {
    "name": "ipython",
    "version": 3
   },
   "file_extension": ".py",
   "mimetype": "text/x-python",
   "name": "python",
   "nbconvert_exporter": "python",
   "pygments_lexer": "ipython3",
   "version": "3.11.7"
  }
 },
 "nbformat": 4,
 "nbformat_minor": 5
}

{
 "cells": [
  {
   "cell_type": "markdown",
   "id": "9af3e610-dbac-4ed6-8c06-c81c62af3c8c",
   "metadata": {},
   "source": [
    "# Python Basic Assignment 4"
   ]
  },
  {
   "cell_type": "markdown",
   "id": "43194bdd-597b-4c92-9c62-1a943c3a5c3c",
   "metadata": {},
   "source": [
    "- 1. What exactly is []?\n",
    "- 2. In a list of values stored in a variable called spam, how would you assign the value &#39;hello&#39; as the\n",
    "    third value? (Assume [2, 4, 6, 8, 10] are in spam.)\n",
    "    Let&#39;s pretend the spam includes the list [&#39;a&#39;, &#39;b&#39;, &#39;c&#39;, &#39;d&#39;] for the next three queries.\n",
    "- 3. What is the value of spam[int(int(&#39;3&#39; * 2) / 11)]?\n",
    "- 4. What is the value of spam[-1]?\n",
    "- 5. What is the value of spam[:2]?\n",
    "    Let&#39;s pretend bacon has the list [3.14, &#39;cat,&#39; 11, &#39;cat,&#39; True] for the next three questions.\n",
    "- 6. What is the value of bacon.index(&#39;cat&#39;)?\n",
    "- 7. How does bacon.append(99) change the look of the list value in bacon?\n",
    "- 8. How does bacon.remove(&#39;cat&#39;) change the look of the list in bacon?\n",
    "- 9. What are the list concatenation and list replication operators?\n",
    "- 10. What is difference between the list methods append() and insert()?\n",
    "- 11. What are the two methods for removing items from a list?\n",
    "- 12. Describe how list values and string values are identical.\n",
    "- 13. What&#39;s the difference between tuples and lists?\n",
    "- 14. How do you type a tuple value that only contains the integer 42?\n",
    "- 15. How do you get a list value&#39;s tuple form? How do you get a tuple value&#39;s list form?\n",
    "- 16. Variables that &quot;contain&quot; list values are not necessarily lists themselves. Instead, what do they\n",
    "    contain?\n",
    "-17. How do you distinguish between copy.copy() and copy.deepcopy()?"
   ]
  },
  {
   "cell_type": "code",
   "execution_count": 5,
   "id": "7eb1ff8e-ab72-44be-867a-7856bc8edd9b",
   "metadata": {},
   "outputs": [
    {
     "data": {
      "text/plain": [
       "'\\nThe empty list `[]` is a list data structure in Python that contains no elements. \\nIt can be used to store items dynamically and is mutable.\\n'"
      ]
     },
     "execution_count": 5,
     "metadata": {},
     "output_type": "execute_result"
    }
   ],
   "source": [
    "\n",
    "# 1. What exactly is []?\n",
    "\"\"\"\n",
    "The empty list `[]` is a list data structure in Python that contains no elements. \n",
    "It can be used to store items dynamically and is mutable.\n",
    "\"\"\"\n"
   ]
  },
  {
   "cell_type": "code",
   "execution_count": 7,
   "id": "f2128c3a-38e1-4e0a-854f-4205550da824",
   "metadata": {},
   "outputs": [
    {
     "name": "stdout",
     "output_type": "stream",
     "text": [
      "[2, 4, 'hello', 8, 10]\n"
     ]
    }
   ],
   "source": [
    "\n",
    "# 2. In a list of values stored in a variable called spam, how would you assign the value 'hello' as the third value?\n",
    "# Assume [2, 4, 6, 8, 10] are in spam.\n",
    "\n",
    "spam = [2, 4, 6, 8, 10]\n",
    "spam[2] = 'hello'  # Assign 'hello' as the third value (index 2)\n",
    "print(spam)  # Output: [2, 4, 'hello', 8, 10]\n"
   ]
  },
  {
   "cell_type": "code",
   "execution_count": 9,
   "id": "662e9496-dddc-4465-a7bd-ff91b853c40f",
   "metadata": {},
   "outputs": [
    {
     "name": "stdout",
     "output_type": "stream",
     "text": [
      "d\n"
     ]
    }
   ],
   "source": [
    "\n",
    "# 3. What is the value of spam[int(int('3' * 2) / 11)]?\n",
    "# Assume spam = ['a', 'b', 'c', 'd']\n",
    "\n",
    "spam = ['a', 'b', 'c', 'd']\n",
    "value = spam[int(int('3' * 2) / 11)]  # '3' * 2 => '33', int('33') => 33, 33 / 11 => 3\n",
    "print(value)  # Output: 'd'"
   ]
  },
  {
   "cell_type": "code",
   "execution_count": 11,
   "id": "e3f56bb7-8711-4a14-8913-0c7fcf97774b",
   "metadata": {},
   "outputs": [
    {
     "data": {
      "text/plain": [
       "\"\\nThe value of spam[-1] is the last element in the list.\\nFor spam = ['a', 'b', 'c', 'd'], spam[-1] is 'd'.\\n\""
      ]
     },
     "execution_count": 11,
     "metadata": {},
     "output_type": "execute_result"
    }
   ],
   "source": [
    "# 4. What is the value of spam[-1]?\n",
    "\"\"\"\n",
    "The value of spam[-1] is the last element in the list.\n",
    "For spam = ['a', 'b', 'c', 'd'], spam[-1] is 'd'.\n",
    "\"\"\""
   ]
  },
  {
   "cell_type": "code",
   "execution_count": 13,
   "id": "d2f74498-083c-4177-98f4-d90c50579a61",
   "metadata": {},
   "outputs": [
    {
     "data": {
      "text/plain": [
       "\"\\nspam[:2] returns a slice of the list containing the first two elements.\\nFor spam = ['a', 'b', 'c', 'd'], spam[:2] is ['a', 'b'].\\n\""
      ]
     },
     "execution_count": 13,
     "metadata": {},
     "output_type": "execute_result"
    }
   ],
   "source": [
    "# 5. What is the value of spam[:2]?\n",
    "\"\"\"\n",
    "spam[:2] returns a slice of the list containing the first two elements.\n",
    "For spam = ['a', 'b', 'c', 'd'], spam[:2] is ['a', 'b'].\n",
    "\"\"\"\n"
   ]
  },
  {
   "cell_type": "code",
   "execution_count": 15,
   "id": "fa48a428-0e87-4ad5-ae42-ecd29d0711e3",
   "metadata": {},
   "outputs": [
    {
     "name": "stdout",
     "output_type": "stream",
     "text": [
      "1\n"
     ]
    }
   ],
   "source": [
    "\n",
    "# 6. What is the value of bacon.index('cat')?\n",
    "# Assume bacon = [3.14, 'cat', 11, 'cat', True]\n",
    "\n",
    "bacon = [3.14, 'cat', 11, 'cat', True]\n",
    "index = bacon.index('cat')  # Returns the index of the first occurrence of 'cat'\n",
    "print(index)  # Output: 1"
   ]
  },
  {
   "cell_type": "code",
   "execution_count": 17,
   "id": "620f902d-b5c7-4d41-a105-eb4ec065c95e",
   "metadata": {},
   "outputs": [
    {
     "name": "stdout",
     "output_type": "stream",
     "text": [
      "[3.14, 'cat', 11, 'cat', True, 99]\n"
     ]
    }
   ],
   "source": [
    "# 7. How does bacon.append(99) change the look of the list value in bacon?\n",
    "\n",
    "bacon.append(99)  # Adds 99 to the end of the list\n",
    "print(bacon)  # Output: [3.14, 'cat', 11, 'cat', True, 99]"
   ]
  },
  {
   "cell_type": "code",
   "execution_count": 19,
   "id": "560b2c9d-e95e-4a4a-a74a-671056636353",
   "metadata": {},
   "outputs": [
    {
     "name": "stdout",
     "output_type": "stream",
     "text": [
      "[3.14, 11, 'cat', True, 99]\n"
     ]
    }
   ],
   "source": [
    "\n",
    "# 8. How does bacon.remove('cat') change the look of the list in bacon?\n",
    "\n",
    "bacon.remove('cat')  # Removes the first occurrence of 'cat'\n",
    "print(bacon)  # Output: [3.14, 11, 'cat', True, 99]"
   ]
  },
  {
   "cell_type": "code",
   "execution_count": 21,
   "id": "fb9cfbf9-3e6d-4020-9b34-aa697e2ed7ec",
   "metadata": {},
   "outputs": [
    {
     "data": {
      "text/plain": [
       "'\\n- List concatenation is done using the `+` operator.\\n- List replication is done using the `*` operator.\\n\\nExample:\\nlist1 = [1, 2]\\nlist2 = [3, 4]\\nprint(list1 + list2)  # [1, 2, 3, 4]\\nprint(list1 * 2)      # [1, 2, 1, 2]\\n'"
      ]
     },
     "execution_count": 21,
     "metadata": {},
     "output_type": "execute_result"
    }
   ],
   "source": [
    "\n",
    "# 9. What are the list concatenation and list replication operators?\n",
    "\"\"\"\n",
    "- List concatenation is done using the `+` operator.\n",
    "- List replication is done using the `*` operator.\n",
    "\n",
    "Example:\n",
    "list1 = [1, 2]\n",
    "list2 = [3, 4]\n",
    "print(list1 + list2)  # [1, 2, 3, 4]\n",
    "print(list1 * 2)      # [1, 2, 1, 2]\n",
    "\"\"\"\n"
   ]
  },
  {
   "cell_type": "code",
   "execution_count": 23,
   "id": "90e234e4-92fb-4322-b110-d4a970c6a23c",
   "metadata": {},
   "outputs": [
    {
     "data": {
      "text/plain": [
       "\"\\n- `append()` adds an element to the end of the list.\\n- `insert(index, element)` adds an element at a specified index.\\n\\nExample:\\nlst = [1, 2]\\nlst.append(3)  # [1, 2, 3]\\nlst.insert(1, 'a')  # [1, 'a', 2, 3]\\n\""
      ]
     },
     "execution_count": 23,
     "metadata": {},
     "output_type": "execute_result"
    }
   ],
   "source": [
    "# 10. What is the difference between the list methods append() and insert()?\n",
    "\"\"\"\n",
    "- `append()` adds an element to the end of the list.\n",
    "- `insert(index, element)` adds an element at a specified index.\n",
    "\n",
    "Example:\n",
    "lst = [1, 2]\n",
    "lst.append(3)  # [1, 2, 3]\n",
    "lst.insert(1, 'a')  # [1, 'a', 2, 3]\n",
    "\"\"\""
   ]
  },
  {
   "cell_type": "code",
   "execution_count": 25,
   "id": "1646ff5c-3107-4c8a-986c-26779c4bd78e",
   "metadata": {},
   "outputs": [
    {
     "data": {
      "text/plain": [
       "'\\nThe two methods are:\\n1. `remove(element)`: Removes the first occurrence of the element.\\n2. `pop(index)`: Removes and returns the element at the specified index (default is the last element).\\n\\nExample:\\nlst = [1, 2, 3]\\nlst.remove(2)  # [1, 3]\\nlst.pop(1)     # [1]\\n'"
      ]
     },
     "execution_count": 25,
     "metadata": {},
     "output_type": "execute_result"
    }
   ],
   "source": [
    "# 11. What are the two methods for removing items from a list?\n",
    "\"\"\"\n",
    "The two methods are:\n",
    "1. `remove(element)`: Removes the first occurrence of the element.\n",
    "2. `pop(index)`: Removes and returns the element at the specified index (default is the last element).\n",
    "\n",
    "Example:\n",
    "lst = [1, 2, 3]\n",
    "lst.remove(2)  # [1, 3]\n",
    "lst.pop(1)     # [1]\n",
    "\"\"\""
   ]
  },
  {
   "cell_type": "code",
   "execution_count": 27,
   "id": "e17623c8-daf3-4d01-867d-eea8c379940d",
   "metadata": {},
   "outputs": [
    {
     "data": {
      "text/plain": [
       "'\\n- Both lists and strings are sequences.\\n- Both support indexing, slicing, and iteration.\\n- Both can be concatenated (`+`) and replicated (`*`).\\n\\nDifferences:\\n- Lists are mutable, while strings are immutable.\\n'"
      ]
     },
     "execution_count": 27,
     "metadata": {},
     "output_type": "execute_result"
    }
   ],
   "source": [
    "# 12. Describe how list values and string values are identical.\n",
    "\"\"\"\n",
    "- Both lists and strings are sequences.\n",
    "- Both support indexing, slicing, and iteration.\n",
    "- Both can be concatenated (`+`) and replicated (`*`).\n",
    "\n",
    "Differences:\n",
    "- Lists are mutable, while strings are immutable.\n",
    "\"\"\"\n"
   ]
  },
  {
   "cell_type": "code",
   "execution_count": 29,
   "id": "d7396066-ebfb-4783-b853-4c0c812dc6bc",
   "metadata": {},
   "outputs": [
    {
     "data": {
      "text/plain": [
       "'\\n- Lists are mutable, while tuples are immutable.\\n- Lists use square brackets `[]`, while tuples use parentheses `()`.\\n\\nExample:\\nlst = [1, 2, 3]  # Mutable\\ntpl = (1, 2, 3)  # Immutable\\n'"
      ]
     },
     "execution_count": 29,
     "metadata": {},
     "output_type": "execute_result"
    }
   ],
   "source": [
    "# 13. What's the difference between tuples and lists?\n",
    "\"\"\"\n",
    "- Lists are mutable, while tuples are immutable.\n",
    "- Lists use square brackets `[]`, while tuples use parentheses `()`.\n",
    "\n",
    "Example:\n",
    "lst = [1, 2, 3]  # Mutable\n",
    "tpl = (1, 2, 3)  # Immutable\n",
    "\"\"\"\n"
   ]
  },
  {
   "cell_type": "code",
   "execution_count": 31,
   "id": "460703a6-bcc3-49e6-982b-14e521cd4447",
   "metadata": {},
   "outputs": [
    {
     "name": "stdout",
     "output_type": "stream",
     "text": [
      "<class 'tuple'>\n"
     ]
    }
   ],
   "source": [
    "# 14. How do you type a tuple value that only contains the integer 42?\n",
    "\n",
    "tpl = (42,)  # A trailing comma is required for a single-element tuple\n",
    "print(type(tpl))  # Output: <class 'tuple'>\n"
   ]
  },
  {
   "cell_type": "code",
   "execution_count": 33,
   "id": "822a87cc-e9d3-46cf-93bb-7cd53f8439cb",
   "metadata": {},
   "outputs": [
    {
     "name": "stdout",
     "output_type": "stream",
     "text": [
      "(1, 2, 3)\n",
      "[4, 5, 6]\n"
     ]
    }
   ],
   "source": [
    "# 15. How do you get a list value's tuple form? How do you get a tuple value's list form?\n",
    "\n",
    "lst = [1, 2, 3]\n",
    "tpl = tuple(lst)  # Convert list to tuple\n",
    "print(tpl)  # (1, 2, 3)\n",
    "\n",
    "tpl = (4, 5, 6)\n",
    "lst = list(tpl)  # Convert tuple to list\n",
    "print(lst)  # [4, 5, 6]"
   ]
  },
  {
   "cell_type": "code",
   "execution_count": 35,
   "id": "80e69f1f-c9a0-4a8f-ac7b-9f90e5def8d8",
   "metadata": {},
   "outputs": [
    {
     "data": {
      "text/plain": [
       "'\\nVariables contain references to the list objects, not the actual data.\\n'"
      ]
     },
     "execution_count": 35,
     "metadata": {},
     "output_type": "execute_result"
    }
   ],
   "source": [
    "# 16. Variables that \"contain\" list values are not necessarily lists themselves. Instead, what do they contain?\n",
    "\"\"\"\n",
    "Variables contain references to the list objects, not the actual data.\n",
    "\"\"\""
   ]
  },
  {
   "cell_type": "code",
   "execution_count": 37,
   "id": "aa683844-8aea-4a15-90d9-3720cbc83d54",
   "metadata": {},
   "outputs": [
    {
     "data": {
      "text/plain": [
       "'\\n- `copy.copy()`: Creates a shallow copy of the object (only one level deep).\\n- `copy.deepcopy()`: Creates a deep copy of the object, recursively copying all nested objects.\\n\\nExample:\\nimport copy\\n\\nlst = [[1, 2], [3, 4]]\\nshallow = copy.copy(lst)\\ndeep = copy.deepcopy(lst)\\n\\nshallow[0][0] = 99\\nprint(lst)  # [[99, 2], [3, 4]] (affected)\\nprint(deep)  # [[1, 2], [3, 4]] (unaffected)\\n'"
      ]
     },
     "execution_count": 37,
     "metadata": {},
     "output_type": "execute_result"
    }
   ],
   "source": [
    "# 17. How do you distinguish between copy.copy() and copy.deepcopy()?\n",
    "\"\"\"\n",
    "- `copy.copy()`: Creates a shallow copy of the object (only one level deep).\n",
    "- `copy.deepcopy()`: Creates a deep copy of the object, recursively copying all nested objects.\n",
    "\n",
    "Example:\n",
    "import copy\n",
    "\n",
    "lst = [[1, 2], [3, 4]]\n",
    "shallow = copy.copy(lst)\n",
    "deep = copy.deepcopy(lst)\n",
    "\n",
    "shallow[0][0] = 99\n",
    "print(lst)  # [[99, 2], [3, 4]] (affected)\n",
    "print(deep)  # [[1, 2], [3, 4]] (unaffected)\n",
    "\"\"\""
   ]
  },
  {
   "cell_type": "code",
   "execution_count": null,
   "id": "0f406b18-2d29-422a-be86-e7b3ef8f6e94",
   "metadata": {},
   "outputs": [],
   "source": []
  }
 ],
 "metadata": {
  "kernelspec": {
   "display_name": "Python 3 (ipykernel)",
   "language": "python",
   "name": "python3"
  },
  "language_info": {
   "codemirror_mode": {
    "name": "ipython",
    "version": 3
   },
   "file_extension": ".py",
   "mimetype": "text/x-python",
   "name": "python",
   "nbconvert_exporter": "python",
   "pygments_lexer": "ipython3",
   "version": "3.12.4"
  }
 },
 "nbformat": 4,
 "nbformat_minor": 5
}

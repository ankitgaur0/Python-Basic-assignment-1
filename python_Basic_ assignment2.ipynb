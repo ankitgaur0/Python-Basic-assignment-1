{
 "cells": [
  {
   "cell_type": "markdown",
   "id": "ef446f26-b75e-4067-a644-bed2f836ba22",
   "metadata": {},
   "source": [
    "# Assignment -ineuron \n",
    "- 1.What are the two values of the Boolean data type? How do you write them?\n",
    "- 2. What are the three different types of Boolean operators?\n",
    "- 3. Make a list of each Boolean operator&#39;s truth tables (i.e. every possible combination of Boolean\n",
    "    values for the operator and what it evaluate ).\n",
    "- 4. What are the values of the following expressions?\n",
    "    (5 &gt; 4) and (3 == 5)\n",
    "    not (5 &gt; 4)\n",
    "    (5 &gt; 4) or (3 == 5)\n",
    "    not ((5 &gt; 4) or (3 == 5))\n",
    "    (True and True) and (True == False)\n",
    "    (not False) or (not True)\n",
    "- 5. What are the six comparison operators?\n",
    "- 6. How do you tell the difference between the equal to and assignment operators?Describe a\n",
    "    condition and when you would use one.\n",
    "- 7. Identify the three blocks in this code:\n",
    "    spam = 0\n",
    "    if spam == 10:\n",
    "    print(&#39;eggs&#39;)\n",
    "    if spam &gt; 5:\n",
    "    print(&#39;bacon&#39;)\n",
    "    else:\n",
    "    print(&#39;ham&#39;)\n",
    "    print(&#39;spam&#39;)\n",
    "    print(&#39;spam&#39;)\n",
    "- 8. Write code that prints Hello if 1 is stored in spam, prints Howdy if 2 is stored in spam, and prints\n",
    "    Greetings! if anything else is stored in spam.\n",
    "    \n",
    "- 9.If your programme is stuck in an endless loop, what keys you’ll press?\n",
    "- 10. How can you tell the difference between break and continue?\n",
    "- 11. In a for loop, what is the difference between range(10), range(0, 10), and range(0, 10, 1)?\n",
    "- 12. Write a short program that prints the numbers 1 to 10 using a for loop. Then write an equivalent\n",
    "    program that prints the numbers 1 to 10 using a while loop.\n",
    "- 13. If you had a function named bacon() inside a module named spam, how would you call it after\n",
    "    importing spam?"
   ]
  },
  {
   "cell_type": "code",
   "execution_count": 29,
   "id": "a4de1972-76bb-4e1f-9f25-e80d8d607457",
   "metadata": {},
   "outputs": [
    {
     "data": {
      "text/plain": [
       "'\\nThe two values of the Boolean data type are:\\n- True\\n- False\\nThey are written as `True` and `False` in Python (case-sensitive).\\n'"
      ]
     },
     "execution_count": 29,
     "metadata": {},
     "output_type": "execute_result"
    }
   ],
   "source": [
    "# 1. What are the two values of the Boolean data type? How do you write them?\n",
    "\"\"\"\n",
    "The two values of the Boolean data type are:\n",
    "- True\n",
    "- False\n",
    "They are written as `True` and `False` in Python (case-sensitive).\n",
    "\"\"\""
   ]
  },
  {
   "cell_type": "code",
   "execution_count": 30,
   "id": "60de6c20-9482-46d1-bceb-ce1656407aa1",
   "metadata": {},
   "outputs": [
    {
     "data": {
      "text/plain": [
       "'\\nThe three types of Boolean operators are:\\n1. AND\\n2. OR\\n3. NOT\\n'"
      ]
     },
     "execution_count": 30,
     "metadata": {},
     "output_type": "execute_result"
    }
   ],
   "source": [
    "# 2. What are the three different types of Boolean operators?\n",
    "\"\"\"\n",
    "The three types of Boolean operators are:\n",
    "1. AND\n",
    "2. OR\n",
    "3. NOT\n",
    "\"\"\""
   ]
  },
  {
   "cell_type": "code",
   "execution_count": 31,
   "id": "92b21bff-8576-4566-b00d-830d66e2cd8d",
   "metadata": {},
   "outputs": [
    {
     "data": {
      "text/plain": [
       "'\\nAND Truth Table:\\nA       B       A AND B\\nTrue    True    True\\nTrue    False   False\\nFalse   True    False\\nFalse   False   False\\n\\nOR Truth Table:\\nA       B       A OR B\\nTrue    True    True\\nTrue    False   True\\nFalse   True    True\\nFalse   False   False\\n\\nNOT Truth Table:\\nA       NOT A\\nTrue    False\\nFalse   True\\n'"
      ]
     },
     "execution_count": 31,
     "metadata": {},
     "output_type": "execute_result"
    }
   ],
   "source": [
    "# 3. Truth tables for Boolean operators\n",
    "\"\"\"\n",
    "AND Truth Table:\n",
    "A       B       A AND B\n",
    "True    True    True\n",
    "True    False   False\n",
    "False   True    False\n",
    "False   False   False\n",
    "\n",
    "OR Truth Table:\n",
    "A       B       A OR B\n",
    "True    True    True\n",
    "True    False   True\n",
    "False   True    True\n",
    "False   False   False\n",
    "\n",
    "NOT Truth Table:\n",
    "A       NOT A\n",
    "True    False\n",
    "False   True\n",
    "\"\"\"\n"
   ]
  },
  {
   "cell_type": "code",
   "execution_count": 32,
   "id": "e490c3b8-95ca-4368-bf1a-d427f078cdf8",
   "metadata": {},
   "outputs": [
    {
     "name": "stdout",
     "output_type": "stream",
     "text": [
      "Expression 1: False\n",
      "Expression 2: False\n",
      "Expression 3: True\n",
      "Expression 4: False\n",
      "Expression 5: False\n",
      "Expression 6: True\n"
     ]
    }
   ],
   "source": [
    "# 4. Evaluate the given expressions\n",
    "expr1 = (5 > 4) and (3 == 5)\n",
    "expr2 = not (5 > 4)\n",
    "expr3 = (5 > 4) or (3 == 5)\n",
    "expr4 = not ((5 > 4) or (3 == 5))\n",
    "expr5 = (True and True) and (True == False)\n",
    "expr6 = (not False) or (not True)\n",
    "\n",
    "print(\"Expression 1:\", expr1)  # False\n",
    "print(\"Expression 2:\", expr2)  # False\n",
    "print(\"Expression 3:\", expr3)  # True\n",
    "print(\"Expression 4:\", expr4)  # False\n",
    "print(\"Expression 5:\", expr5)  # False\n",
    "print(\"Expression 6:\", expr6)  # True"
   ]
  },
  {
   "cell_type": "code",
   "execution_count": 33,
   "id": "60e82381-10d9-4d35-a157-c9466e4efc5b",
   "metadata": {},
   "outputs": [
    {
     "data": {
      "text/plain": [
       "'\\nThe six comparison operators are:\\n1. == : Equal to\\n2. != : Not equal to\\n3. >  : Greater than\\n4. <  : Less than\\n5. >= : Greater than or equal to\\n6. <= : Less than or equal to\\n'"
      ]
     },
     "execution_count": 33,
     "metadata": {},
     "output_type": "execute_result"
    }
   ],
   "source": [
    "# 5. What are the six comparison operators?\n",
    "\"\"\"\n",
    "The six comparison operators are:\n",
    "1. == : Equal to\n",
    "2. != : Not equal to\n",
    "3. >  : Greater than\n",
    "4. <  : Less than\n",
    "5. >= : Greater than or equal to\n",
    "6. <= : Less than or equal to\n",
    "\"\"\""
   ]
  },
  {
   "cell_type": "code",
   "execution_count": 34,
   "id": "20d6d020-f274-4822-8b75-fb9538adfb96",
   "metadata": {},
   "outputs": [
    {
     "data": {
      "text/plain": [
       "'\\n- The `==` operator checks for equality between two values and returns a Boolean value (True or False).\\n- The `=` operator assigns a value to a variable.\\n\\nExample:\\nx = 5  # Assignment\\nif x == 5:  # Equality check\\n    print(\"x is equal to 5\")\\n'"
      ]
     },
     "execution_count": 34,
     "metadata": {},
     "output_type": "execute_result"
    }
   ],
   "source": [
    "# 6. Difference between equal to (==) and assignment (=) operators\n",
    "\"\"\"\n",
    "- The `==` operator checks for equality between two values and returns a Boolean value (True or False).\n",
    "- The `=` operator assigns a value to a variable.\n",
    "\n",
    "Example:\n",
    "x = 5  # Assignment\n",
    "if x == 5:  # Equality check\n",
    "    print(\"x is equal to 5\")\n",
    "\"\"\"\n"
   ]
  },
  {
   "cell_type": "code",
   "execution_count": 35,
   "id": "895edc42-03a4-4244-9c13-0a1da6343ac6",
   "metadata": {},
   "outputs": [
    {
     "name": "stdout",
     "output_type": "stream",
     "text": [
      "ham\n",
      "spam\n",
      "spam\n"
     ]
    },
    {
     "data": {
      "text/plain": [
       "'\\nBlocks:\\n1. Block under `if spam == 10:` (Line 2-3)\\n2. Block under `if spam > 5:` (Line 4-5)\\n3. Block under `else:` (Line 6-8)\\n'"
      ]
     },
     "execution_count": 35,
     "metadata": {},
     "output_type": "execute_result"
    }
   ],
   "source": [
    "# 7. Identify the three blocks in the following code\n",
    "spam = 0\n",
    "if spam == 10:  # Block 1\n",
    "    print('eggs')\n",
    "if spam > 5:  # Block 2\n",
    "    print('bacon')\n",
    "else:  # Block 3\n",
    "    print('ham')\n",
    "print('spam')\n",
    "print('spam')\n",
    "\n",
    "\"\"\"\n",
    "Blocks:\n",
    "1. Block under `if spam == 10:` (Line 2-3)\n",
    "2. Block under `if spam > 5:` (Line 4-5)\n",
    "3. Block under `else:` (Line 6-8)\n",
    "\"\"\"\n"
   ]
  },
  {
   "cell_type": "code",
   "execution_count": 36,
   "id": "26c60309-15b0-443a-9c20-9f7acdcfb595",
   "metadata": {},
   "outputs": [
    {
     "name": "stdout",
     "output_type": "stream",
     "text": [
      "Howdy\n"
     ]
    }
   ],
   "source": [
    "\n",
    "# 8. Code for conditional spam check\n",
    "spam = 2\n",
    "\n",
    "if spam == 1:\n",
    "    print(\"Hello\")\n",
    "elif spam == 2:\n",
    "    print(\"Howdy\")\n",
    "else:\n",
    "    print(\"Greetings!\")"
   ]
  },
  {
   "cell_type": "code",
   "execution_count": 37,
   "id": "8cc37cd4-748b-4693-a5c4-10bc9117bfc8",
   "metadata": {},
   "outputs": [
    {
     "data": {
      "text/plain": [
       "'\\nTo stop an endless loop, press `Ctrl + C`.\\n'"
      ]
     },
     "execution_count": 37,
     "metadata": {},
     "output_type": "execute_result"
    }
   ],
   "source": [
    "# 9. If your program is stuck in an endless loop, what keys do you press?\n",
    "\"\"\"\n",
    "To stop an endless loop, press `Ctrl + C`.\n",
    "\"\"\"\n"
   ]
  },
  {
   "cell_type": "code",
   "execution_count": 38,
   "id": "6885520e-78c3-45ea-ab6e-6b67206104d0",
   "metadata": {},
   "outputs": [
    {
     "data": {
      "text/plain": [
       "'\\n- `break`: Exits the nearest enclosing loop prematurely.\\n- `continue`: Skips the current iteration and moves to the next iteration of the loop.\\n\\nExample:\\nfor i in range(5):\\n    if i == 3:\\n        break  # Loop terminates when i == 3\\n    print(i)\\n\\nfor i in range(5):\\n    if i == 3:\\n        continue  # Skips when i == 3\\n    print(i)\\n'"
      ]
     },
     "execution_count": 38,
     "metadata": {},
     "output_type": "execute_result"
    }
   ],
   "source": [
    "# 10. Difference between `break` and `continue`\n",
    "\"\"\"\n",
    "- `break`: Exits the nearest enclosing loop prematurely.\n",
    "- `continue`: Skips the current iteration and moves to the next iteration of the loop.\n",
    "\n",
    "Example:\n",
    "for i in range(5):\n",
    "    if i == 3:\n",
    "        break  # Loop terminates when i == 3\n",
    "    print(i)\n",
    "\n",
    "for i in range(5):\n",
    "    if i == 3:\n",
    "        continue  # Skips when i == 3\n",
    "    print(i)\n",
    "\"\"\""
   ]
  },
  {
   "cell_type": "code",
   "execution_count": 39,
   "id": "1634beae-cfd7-4026-97c2-7bedfcf5575c",
   "metadata": {},
   "outputs": [
    {
     "name": "stdout",
     "output_type": "stream",
     "text": [
      "Using for loop:\n",
      "1 2 3 4 5 6 7 8 9 10 \n",
      "Using while loop:\n",
      "1 2 3 4 5 6 7 8 9 10 "
     ]
    }
   ],
   "source": [
    "# 11. Difference between range(10), range(0, 10), and range(0, 10, 1)\n",
    "\"\"\"\n",
    "- `range(10)`: Starts from 0 (default) and ends at 10 (exclusive), increments by 1 (default).\n",
    "- `range(0, 10)`: Explicitly specifies the start as 0 and end as 10 (exclusive), increments by 1 (default).\n",
    "- `range(0, 10, 1)`: Explicitly specifies the start, end, and step size.\n",
    "\n",
    "All three produce the same sequence: [0, 1, 2, 3, 4, 5, 6, 7, 8, 9].\n",
    "\"\"\"\n",
    "\n",
    "# 12. Programs to print numbers from 1 to 10\n",
    "# Using for loop\n",
    "print(\"Using for loop:\")\n",
    "for i in range(1, 11):\n",
    "    print(i, end=\" \")\n",
    "\n",
    "# Using while loop\n",
    "print(\"\\nUsing while loop:\")\n",
    "i = 1\n",
    "while i <= 10:\n",
    "    print(i, end=\" \")\n",
    "    i += 1\n"
   ]
  },
  {
   "cell_type": "code",
   "execution_count": 40,
   "id": "e051a8f7-7ec1-45fa-92a6-b2061123124c",
   "metadata": {},
   "outputs": [
    {
     "data": {
      "text/plain": [
       "'\\nTo call the function `bacon()` inside the module `spam`, you use:\\n`spam.bacon()`\\n\\nExample:\\nimport spam\\nspam.bacon()\\n'"
      ]
     },
     "execution_count": 40,
     "metadata": {},
     "output_type": "execute_result"
    }
   ],
   "source": [
    "# 13. How to call a function named bacon() inside a module named spam?\n",
    "\"\"\"\n",
    "To call the function `bacon()` inside the module `spam`, you use:\n",
    "`spam.bacon()`\n",
    "\n",
    "Example:\n",
    "import spam\n",
    "spam.bacon()\n",
    "\"\"\""
   ]
  },
  {
   "cell_type": "code",
   "execution_count": null,
   "id": "60be7e33-ed92-40ad-9341-4bc62a2bbe56",
   "metadata": {},
   "outputs": [],
   "source": []
  }
 ],
 "metadata": {
  "kernelspec": {
   "display_name": "Python 3 (ipykernel)",
   "language": "python",
   "name": "python3"
  },
  "language_info": {
   "codemirror_mode": {
    "name": "ipython",
    "version": 3
   },
   "file_extension": ".py",
   "mimetype": "text/x-python",
   "name": "python",
   "nbconvert_exporter": "python",
   "pygments_lexer": "ipython3",
   "version": "3.12.4"
  }
 },
 "nbformat": 4,
 "nbformat_minor": 5
}

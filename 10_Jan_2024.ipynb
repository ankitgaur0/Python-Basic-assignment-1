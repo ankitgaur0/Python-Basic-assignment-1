{
 "cells": [
  {
   "cell_type": "markdown",
   "id": "ead35e60-e6c6-4ec5-9aec-e0244cbe42b3",
   "metadata": {},
   "source": [
    "# Assignment\n",
    "- 1. What is the primary goal of Object-Oriented Programming (OOP)?\n",
    "- 2. What is an object in Python?\n",
    "- 3. What is a class in Python?\n",
    "- 4. What are attributes and methods in a class?\n",
    "- 5. What is the difference between class variables and instance variables in Python?\n",
    "- 6. What is the purpose of the self parameter in Python class methods?\n",
    "- 7. For a library management system, you have to design the \"Book\" class with OOP\n",
    "        principles in mind. The “Book” class will have following attributes:\n",
    "        a. title: Represents the title of the book.\n",
    "        b. author: Represents the author(s) of the book.\n",
    "        c. isbn: Represents the ISBN (International Standard Book Number) of the book.\n",
    "        d. publication_year: Represents the year of publication of the book.\n",
    "        e. available_copies: Represents the number of copies available for checkout.\n",
    "        The class will also include the following methods:\n",
    "        a. check_out(self): Decrements the available copies by one if there are copies\n",
    "        available for checkout.\n",
    "        b. return_book(self): Increments the available copies by one when a book is\n",
    "        returned.\n",
    "        c. display_book_info(self): Displays the information about the book, including its\n",
    "         attributes and the number of available copies.\n",
    "\n",
    "- 8. For a ticket booking system, you have to design the \"Ticket\" class with OOP\n",
    "    principles in mind. The “Ticket” class should have the following attributes:\n",
    "    a. ticket_id: Represents the unique identifier for the ticket.\n",
    "    b. event_name: Represents the name of the event.\n",
    "    c. event_date: Represents the date of the event.\n",
    "    d. venue: Represents the venue of the event.\n",
    "    e. seat_number: Represents the seat number associated with the ticket.\n",
    "    f. price: Represents the price of the ticket.\n",
    "    g. is_reserved: Represents the reservation status of the ticket.\n",
    "    The class also includes the following methods:\n",
    "    a. reserve_ticket(self): Marks the ticket as reserved if it is not already reserved.\n",
    "    b. cancel_reservation(self): Cancels the reservation of the ticket if it is already\n",
    "    reserved.\n",
    "    c. display_ticket_info(self): Displays the information about the ticket, including its\n",
    "    attributes and reservation status.\n",
    "\n",
    "-  9. You are creating a shopping cart for an e-commerce website. Using OOP to model\n",
    "    the \"ShoppingCart\" functionality the class should contain following attributes and\n",
    "    methods:\n",
    "    a. items: Represents the list of items in the shopping cart.\n",
    "    The class also includes the following methods:\n",
    "    \n",
    "    a. add_item(self, item): Adds an item to the shopping cart by appending it to the\n",
    "    list of items.\n",
    "    b. remove_item(self, item): Removes an item from the shopping cart if it exists in\n",
    "    the list.\n",
    "    c. view_cart(self): Displays the items currently present in the shopping cart.\n",
    "    d. clear_cart(self): Clears all items from the shopping cart by reassigning an\n",
    "    empty list to the items attribute.\n",
    "    \n",
    "- 10. Imagine a school management system. You have to design the \"Student\" class using\n",
    "    OOP concepts.The “Student” class has the following attributes:\n",
    "    a. name: Represents the name of the student.\n",
    "    b. age: Represents the age of the student.\n",
    "    c. grade: Represents the grade or class of the student.\n",
    "    d. student_id: Represents the unique identifier for the student.\n",
    "    e. attendance: Represents the attendance record of the student.\n",
    "    The class should also include the following methods:\n",
    "    a. update_attendance(self, date, status): Updates the attendance record of the\n",
    "    student for a given date with the provided status (e.g., present or absent).\n",
    "    b. get_attendance(self): Returns the attendance record of the student.\n",
    "    c. get_average_attendance(self): Calculates and returns the average\n",
    "    attendance percentage of the student based on their attendance record."
   ]
  },
  {
   "cell_type": "code",
   "execution_count": 4,
   "id": "08ca7a20-3f03-40f6-90d9-25901c18d42b",
   "metadata": {},
   "outputs": [
    {
     "data": {
      "text/plain": [
       "'\\nThe primary goal of OOP is to structure and organize code in a way that models real-world entities and their interactions. \\nIt achieves this by bundling data and behavior into objects and leveraging principles like encapsulation, inheritance, \\npolymorphism, and abstraction.\\n'"
      ]
     },
     "execution_count": 4,
     "metadata": {},
     "output_type": "execute_result"
    }
   ],
   "source": [
    "# Question 1.\n",
    "\n",
    "# 1. What is the primary goal of Object-Oriented Programming (OOP)?\n",
    "\"\"\"\n",
    "The primary goal of OOP is to structure and organize code in a way that models real-world entities and their interactions. \n",
    "It achieves this by bundling data and behavior into objects and leveraging principles like encapsulation, inheritance, \n",
    "polymorphism, and abstraction.\n",
    "\"\"\"\n"
   ]
  },
  {
   "cell_type": "code",
   "execution_count": 6,
   "id": "630881ff-5e33-4264-b46e-846882c742b9",
   "metadata": {},
   "outputs": [
    {
     "data": {
      "text/plain": [
       "'\\nAn object in Python is an instance of a class. It encapsulates data and behavior defined by its class. Objects \\ninteract with each other through methods and attributes.\\n'"
      ]
     },
     "execution_count": 6,
     "metadata": {},
     "output_type": "execute_result"
    }
   ],
   "source": [
    "#Question 2.\n",
    "# 2. What is an object in Python?\n",
    "\"\"\"\n",
    "An object in Python is an instance of a class. It encapsulates data and behavior defined by its class. Objects \n",
    "interact with each other through methods and attributes.\n",
    "\"\"\""
   ]
  },
  {
   "cell_type": "code",
   "execution_count": 8,
   "id": "e538a21f-005d-4c18-aa8c-7aacd1b23b29",
   "metadata": {},
   "outputs": [
    {
     "data": {
      "text/plain": [
       "'\\nA class in Python is a blueprint for creating objects. It defines the attributes (data) and methods (functions) \\nthat the objects created from the class can use.\\n'"
      ]
     },
     "execution_count": 8,
     "metadata": {},
     "output_type": "execute_result"
    }
   ],
   "source": [
    "# Question3.\n",
    "# 3. What is a class in Python?\n",
    "\"\"\"\n",
    "A class in Python is a blueprint for creating objects. It defines the attributes (data) and methods (functions) \n",
    "that the objects created from the class can use.\n",
    "\"\"\""
   ]
  },
  {
   "cell_type": "code",
   "execution_count": 10,
   "id": "f8fac1fa-8b78-48b2-8d10-00327dd640b4",
   "metadata": {},
   "outputs": [
    {
     "data": {
      "text/plain": [
       "'\\nAttributes are variables that hold data related to the class or its objects. Methods are functions defined \\nwithin a class that operate on its attributes and perform specific actions.\\n'"
      ]
     },
     "execution_count": 10,
     "metadata": {},
     "output_type": "execute_result"
    }
   ],
   "source": [
    "# Question4.\n",
    "\n",
    "# 4. What are attributes and methods in a class?\n",
    "\"\"\"\n",
    "Attributes are variables that hold data related to the class or its objects. Methods are functions defined \n",
    "within a class that operate on its attributes and perform specific actions.\n",
    "\"\"\""
   ]
  },
  {
   "cell_type": "code",
   "execution_count": 12,
   "id": "4274b700-e4c0-4ca3-80fa-fc3dfc9f0af4",
   "metadata": {},
   "outputs": [
    {
     "data": {
      "text/plain": [
       "'\\n- Class variables: Shared across all instances of a class. Defined within the class but outside any method.\\n- Instance variables: Unique to each instance of the class. Defined within methods, typically the constructor (__init__).\\n'"
      ]
     },
     "execution_count": 12,
     "metadata": {},
     "output_type": "execute_result"
    }
   ],
   "source": [
    "# Question5.\n",
    "# 5. What is the difference between class variables and instance variables in Python?\n",
    "\"\"\"\n",
    "- Class variables: Shared across all instances of a class. Defined within the class but outside any method.\n",
    "- Instance variables: Unique to each instance of the class. Defined within methods, typically the constructor (__init__).\n",
    "\"\"\""
   ]
  },
  {
   "cell_type": "code",
   "execution_count": 14,
   "id": "c933435d-eca6-4f6f-9ea0-af65a787a6da",
   "metadata": {},
   "outputs": [
    {
     "data": {
      "text/plain": [
       "'\\nThe `self` parameter represents the instance of the class. It allows methods to access and modify instance variables \\nand call other instance methods within the class.\\n'"
      ]
     },
     "execution_count": 14,
     "metadata": {},
     "output_type": "execute_result"
    }
   ],
   "source": [
    "# Question6.\n",
    "# 6. What is the purpose of the self parameter in Python class methods?\n",
    "\"\"\"\n",
    "The `self` parameter represents the instance of the class. It allows methods to access and modify instance variables \n",
    "and call other instance methods within the class.\n",
    "\"\"\""
   ]
  },
  {
   "cell_type": "code",
   "execution_count": 16,
   "id": "bf9c5e31-1055-4d77-992a-0257a97ac7c6",
   "metadata": {},
   "outputs": [
    {
     "name": "stdout",
     "output_type": "stream",
     "text": [
      "Title: Python Programming\n",
      "Author: John Doe\n",
      "ISBN: 1234567890\n",
      "Publication Year: 2020\n",
      "Available Copies: 3\n",
      "Book 'Python Programming' checked out successfully!\n",
      "Book 'Python Programming' returned successfully!\n"
     ]
    }
   ],
   "source": [
    "# Question7.\n",
    "# 7. \"Book\" Class for Library Management System\n",
    "class Book:\n",
    "    def __init__(self, title, author, isbn, publication_year, available_copies):\n",
    "        self.title = title\n",
    "        self.author = author\n",
    "        self.isbn = isbn\n",
    "        self.publication_year = publication_year\n",
    "        self.available_copies = available_copies\n",
    "\n",
    "    def check_out(self):\n",
    "        if self.available_copies > 0:\n",
    "            self.available_copies -= 1\n",
    "            print(f\"Book '{self.title}' checked out successfully!\")\n",
    "        else:\n",
    "            print(f\"No copies of '{self.title}' available.\")\n",
    "\n",
    "    def return_book(self):\n",
    "        self.available_copies += 1\n",
    "        print(f\"Book '{self.title}' returned successfully!\")\n",
    "\n",
    "    def display_book_info(self):\n",
    "        print(f\"Title: {self.title}\\nAuthor: {self.author}\\nISBN: {self.isbn}\\nPublication Year: {self.publication_year}\\nAvailable Copies: {self.available_copies}\")\n",
    "\n",
    "# Example Usage\n",
    "book = Book(\"Python Programming\", \"John Doe\", \"1234567890\", 2020, 3)\n",
    "book.display_book_info()\n",
    "book.check_out()\n",
    "book.return_book()"
   ]
  },
  {
   "cell_type": "code",
   "execution_count": 18,
   "id": "ae4a3078-95d7-4ca9-8980-76fbff4be38b",
   "metadata": {},
   "outputs": [
    {
     "name": "stdout",
     "output_type": "stream",
     "text": [
      "Ticket ID: 101\n",
      "Event: Concert\n",
      "Date: 2024-12-25\n",
      "Venue: Stadium\n",
      "Seat Number: A1\n",
      "Price: 50.0\n",
      "Reserved: False\n",
      "Ticket 101 reserved successfully!\n",
      "Reservation for ticket 101 cancelled.\n"
     ]
    }
   ],
   "source": [
    "# Question8.\n",
    "# 8. \"Ticket\" Class for Ticket Booking System\n",
    "class Ticket:\n",
    "    def __init__(self, ticket_id, event_name, event_date, venue, seat_number, price, is_reserved=False):\n",
    "        self.ticket_id = ticket_id\n",
    "        self.event_name = event_name\n",
    "        self.event_date = event_date\n",
    "        self.venue = venue\n",
    "        self.seat_number = seat_number\n",
    "        self.price = price\n",
    "        self.is_reserved = is_reserved\n",
    "\n",
    "    def reserve_ticket(self):\n",
    "        if not self.is_reserved:\n",
    "            self.is_reserved = True\n",
    "            print(f\"Ticket {self.ticket_id} reserved successfully!\")\n",
    "        else:\n",
    "            print(f\"Ticket {self.ticket_id} is already reserved.\")\n",
    "\n",
    "    def cancel_reservation(self):\n",
    "        if self.is_reserved:\n",
    "            self.is_reserved = False\n",
    "            print(f\"Reservation for ticket {self.ticket_id} cancelled.\")\n",
    "        else:\n",
    "            print(f\"Ticket {self.ticket_id} is not reserved.\")\n",
    "\n",
    "    def display_ticket_info(self):\n",
    "        print(f\"Ticket ID: {self.ticket_id}\\nEvent: {self.event_name}\\nDate: {self.event_date}\\nVenue: {self.venue}\\nSeat Number: {self.seat_number}\\nPrice: {self.price}\\nReserved: {self.is_reserved}\")\n",
    "\n",
    "# Example Usage\n",
    "ticket = Ticket(101, \"Concert\", \"2024-12-25\", \"Stadium\", \"A1\", 50.0)\n",
    "ticket.display_ticket_info()\n",
    "ticket.reserve_ticket()\n",
    "ticket.cancel_reservation()"
   ]
  },
  {
   "cell_type": "code",
   "execution_count": 20,
   "id": "5df2053c-8d06-4928-a359-1a59fd1452d5",
   "metadata": {},
   "outputs": [
    {
     "name": "stdout",
     "output_type": "stream",
     "text": [
      "Item 'Laptop' added to cart.\n",
      "Items in the cart: ['Laptop']\n",
      "Item 'Laptop' removed from cart.\n",
      "Shopping cart cleared.\n"
     ]
    }
   ],
   "source": [
    "# Question9.\n",
    "# 9. \"ShoppingCart\" Class\n",
    "class ShoppingCart:\n",
    "    def __init__(self):\n",
    "        self.items = []\n",
    "\n",
    "    def add_item(self, item):\n",
    "        self.items.append(item)\n",
    "        print(f\"Item '{item}' added to cart.\")\n",
    "\n",
    "    def remove_item(self, item):\n",
    "        if item in self.items:\n",
    "            self.items.remove(item)\n",
    "            print(f\"Item '{item}' removed from cart.\")\n",
    "        else:\n",
    "            print(f\"Item '{item}' not in the cart.\")\n",
    "\n",
    "    def view_cart(self):\n",
    "        print(\"Items in the cart:\", self.items)\n",
    "\n",
    "    def clear_cart(self):\n",
    "        self.items = []\n",
    "        print(\"Shopping cart cleared.\")\n",
    "\n",
    "# Example Usage\n",
    "cart = ShoppingCart()\n",
    "cart.add_item(\"Laptop\")\n",
    "cart.view_cart()\n",
    "cart.remove_item(\"Laptop\")\n",
    "cart.clear_cart()\n"
   ]
  },
  {
   "cell_type": "code",
   "execution_count": null,
   "id": "1ef5da19-44d4-48db-b8d7-71e91d4572a2",
   "metadata": {},
   "outputs": [],
   "source": [
    "# Question10.\n",
    "# 10. \"Student\" Class for School Management System\n",
    "class Student:\n",
    "    def __init__(self, name, age, grade, student_id):\n",
    "        self.name = name\n",
    "        self.age = age\n",
    "        self.grade = grade\n",
    "        self.student_id = student_id\n",
    "        self.attendance = {}\n",
    "\n",
    "    def update_attendance(self, date, status):\n",
    "        self.attendance[date] = status\n",
    "        print(f\"Attendance updated for {self.name} on {date}: {status}\")\n",
    "\n",
    "    def get_attendance(self):\n",
    "        return self.attendance\n",
    "\n",
    "    def get_average_attendance(self):\n",
    "        total_days = len(self.attendance)\n",
    "        present_days = sum(1 for status in self.attendance.values() if status == \"present\")\n",
    "        if total_days > 0:\n",
    "            return (present_days / total_days) * 100\n",
    "        return 0\n",
    "\n",
    "# Example Usage\n",
    "student = Student(\"Alice\", 14, \"8th Grade\", 1234)\n",
    "student.update_attendance(\"2024-11-01\", \"present\")\n",
    "student.update_attendance(\"2024-11-02\", \"absent\")\n",
    "print(student.get_attendance())\n",
    "print(f\"Average Attendance: {student.get_average_attendance()}%\")\n"
   ]
  }
 ],
 "metadata": {
  "kernelspec": {
   "display_name": "Python 3 (ipykernel)",
   "language": "python",
   "name": "python3"
  },
  "language_info": {
   "codemirror_mode": {
    "name": "ipython",
    "version": 3
   },
   "file_extension": ".py",
   "mimetype": "text/x-python",
   "name": "python",
   "nbconvert_exporter": "python",
   "pygments_lexer": "ipython3",
   "version": "3.12.4"
  }
 },
 "nbformat": 4,
 "nbformat_minor": 5
}
